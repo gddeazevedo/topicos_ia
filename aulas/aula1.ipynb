{
 "cells": [
  {
   "cell_type": "code",
   "execution_count": 1,
   "id": "7b8bb85a",
   "metadata": {},
   "outputs": [],
   "source": [
    "import numpy as np"
   ]
  },
  {
   "cell_type": "markdown",
   "id": "541d91ff",
   "metadata": {},
   "source": [
    "# Vectors"
   ]
  },
  {
   "cell_type": "code",
   "execution_count": 3,
   "id": "dba4aec3",
   "metadata": {},
   "outputs": [
    {
     "name": "stdout",
     "output_type": "stream",
     "text": [
      "Sum: [4 4 4]\n",
      "Inner product: 10\n",
      "Subtraction: [-2  0  2]\n",
      "Outer product: [[3 2 1]\n",
      " [6 4 2]\n",
      " [9 6 3]]\n",
      "Inner product (using @): 10\n"
     ]
    }
   ],
   "source": [
    "v1 = np.array([1, 2, 3])\n",
    "v2 = np.array([3, 2, 1])\n",
    "\n",
    "print(\"Sum:\", v1 + v2)\n",
    "print(\"Inner product:\", np.dot(v1, v2))\n",
    "print(\"Subtraction:\", v1 - v2)\n",
    "print(\"Outer product:\", np.outer(v1, v2))\n",
    "print(\"Inner product (using @):\", v1 @ v2)"
   ]
  },
  {
   "cell_type": "markdown",
   "id": "abfadfec",
   "metadata": {},
   "source": [
    "# Matrices"
   ]
  },
  {
   "cell_type": "code",
   "execution_count": 11,
   "id": "93765a1b",
   "metadata": {},
   "outputs": [
    {
     "name": "stdout",
     "output_type": "stream",
     "text": [
      "Sum:\n",
      " [[ 8 10]\n",
      " [14 16]]\n",
      "Subtraction:\n",
      " [[-6 -6]\n",
      " [-6 -6]]\n",
      "Matrix product (using @):\n",
      " [[27 30]\n",
      " [78 87]]\n",
      "Transpose:\n",
      " [[1 4]\n",
      " [2 5]]\n",
      "Determinant:\n",
      " -2.9999999999999996\n"
     ]
    }
   ],
   "source": [
    "a1 = np.array([\n",
    "    [1, 2],\n",
    "    [4, 5]\n",
    "])\n",
    "a2 = np.array([\n",
    "    [7, 8],\n",
    "    [10, 11]\n",
    "])\n",
    "\n",
    "print(\"Sum:\\n\", a1 + a2)\n",
    "print(\"Subtraction:\\n\", a1 - a2)\n",
    "print(\"Matrix product (using @):\\n\", a1 @ a2)\n",
    "print(\"Transpose:\\n\", np.transpose(a1))\n",
    "print(\"Determinant:\\n\", np.linalg.det(a1))"
   ]
  }
 ],
 "metadata": {
  "kernelspec": {
   "display_name": "topicos-ia",
   "language": "python",
   "name": "python3"
  },
  "language_info": {
   "codemirror_mode": {
    "name": "ipython",
    "version": 3
   },
   "file_extension": ".py",
   "mimetype": "text/x-python",
   "name": "python",
   "nbconvert_exporter": "python",
   "pygments_lexer": "ipython3",
   "version": "3.13.7"
  }
 },
 "nbformat": 4,
 "nbformat_minor": 5
}
