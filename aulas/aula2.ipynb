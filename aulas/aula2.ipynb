{
 "cells": [
  {
   "cell_type": "code",
   "execution_count": 2,
   "id": "37f5290f",
   "metadata": {},
   "outputs": [],
   "source": [
    "import numpy as np\n",
    "import pandas as pd"
   ]
  },
  {
   "cell_type": "markdown",
   "id": "c66b11f5",
   "metadata": {},
   "source": [
    "## Series são similares a um vetor"
   ]
  },
  {
   "cell_type": "code",
   "execution_count": null,
   "id": "479e16f7",
   "metadata": {},
   "outputs": [
    {
     "data": {
      "text/plain": [
       "banana         2\n",
       "maçã           3\n",
       "queijo    queijo\n",
       "dtype: object"
      ]
     },
     "execution_count": 15,
     "metadata": {},
     "output_type": "execute_result"
    }
   ],
   "source": [
    "vet = pd.Series([2, 3, \"queijo\"], index=[\"banana\", \"maçã\", \"queijo\"]) # Similar a um vetor\n",
    "\n",
    "[type(v) for v in vet]\n",
    "vet"
   ]
  },
  {
   "cell_type": "code",
   "execution_count": null,
   "id": "8f44ed6f",
   "metadata": {},
   "outputs": [],
   "source": [
    "vet = pd.Series([1, 2, 3, 4, 7, 9, 10])\n",
    "print(vet)\n",
    "vet.describe()"
   ]
  },
  {
   "cell_type": "code",
   "execution_count": 21,
   "id": "85db8185",
   "metadata": {},
   "outputs": [
    {
     "data": {
      "text/plain": [
       "0    False\n",
       "1    False\n",
       "2     True\n",
       "3     True\n",
       "4    False\n",
       "5     True\n",
       "6     True\n",
       "7     True\n",
       "8    False\n",
       "dtype: bool"
      ]
     },
     "execution_count": 21,
     "metadata": {},
     "output_type": "execute_result"
    }
   ],
   "source": [
    "vet = pd.Series([1, 2, 3, 4,1, 33, 2132, 9, 0])\n",
    "vet >= 3"
   ]
  },
  {
   "cell_type": "code",
   "execution_count": 24,
   "id": "20dd1c55",
   "metadata": {},
   "outputs": [
    {
     "data": {
      "text/html": [
       "<div>\n",
       "<style scoped>\n",
       "    .dataframe tbody tr th:only-of-type {\n",
       "        vertical-align: middle;\n",
       "    }\n",
       "\n",
       "    .dataframe tbody tr th {\n",
       "        vertical-align: top;\n",
       "    }\n",
       "\n",
       "    .dataframe thead th {\n",
       "        text-align: right;\n",
       "    }\n",
       "</style>\n",
       "<table border=\"1\" class=\"dataframe\">\n",
       "  <thead>\n",
       "    <tr style=\"text-align: right;\">\n",
       "      <th></th>\n",
       "      <th>frutas</th>\n",
       "      <th>preços</th>\n",
       "    </tr>\n",
       "  </thead>\n",
       "  <tbody>\n",
       "    <tr>\n",
       "      <th>primeiro</th>\n",
       "      <td>banana</td>\n",
       "      <td>1.5</td>\n",
       "    </tr>\n",
       "    <tr>\n",
       "      <th>segundo</th>\n",
       "      <td>maçã</td>\n",
       "      <td>2.0</td>\n",
       "    </tr>\n",
       "    <tr>\n",
       "      <th>terceiro</th>\n",
       "      <td>laranja</td>\n",
       "      <td>1.8</td>\n",
       "    </tr>\n",
       "  </tbody>\n",
       "</table>\n",
       "</div>"
      ],
      "text/plain": [
       "           frutas  preços\n",
       "primeiro   banana     1.5\n",
       "segundo      maçã     2.0\n",
       "terceiro  laranja     1.8"
      ]
     },
     "execution_count": 24,
     "metadata": {},
     "output_type": "execute_result"
    }
   ],
   "source": [
    "data = {\n",
    "    \"frutas\": [\"banana\", \"maçã\", \"laranja\"],\n",
    "    \"preços\": [1.5, 2.0, 1.8]\n",
    "}\n",
    "df = pd.DataFrame(data, index=[\"primeiro\", \"segundo\", \"terceiro\"])\n",
    "df"
   ]
  },
  {
   "cell_type": "code",
   "execution_count": 23,
   "id": "128ee391",
   "metadata": {},
   "outputs": [
    {
     "data": {
      "text/plain": [
       "pandas.core.series.Series"
      ]
     },
     "execution_count": 23,
     "metadata": {},
     "output_type": "execute_result"
    }
   ],
   "source": [
    "type(df[\"frutas\"])"
   ]
  },
  {
   "cell_type": "code",
   "execution_count": null,
   "id": "93acfa29",
   "metadata": {},
   "outputs": [
    {
     "name": "stdout",
     "output_type": "stream",
     "text": [
      "['banana' np.float64(1.5)]\n",
      "['banana' np.float64(1.5)]\n",
      "         preços\n",
      "count  3.000000\n",
      "mean   1.766667\n",
      "std    0.251661\n",
      "min    1.500000\n",
      "25%    1.650000\n",
      "50%    1.800000\n",
      "75%    1.900000\n",
      "max    2.000000\n"
     ]
    }
   ],
   "source": [
    "print(df.loc[\"primeiro\"].values) # retorna linha cujo índice é \"primeiro\"\n",
    "# values retorna um array numpy, é um atributo de Series\n",
    "\n",
    "print(df.iloc[0].values) # retorna a primeira linha\n",
    "\n",
    "print(df.describe())"
   ]
  },
  {
   "cell_type": "code",
   "execution_count": 35,
   "id": "cd35bfbb",
   "metadata": {},
   "outputs": [
    {
     "name": "stdout",
     "output_type": "stream",
     "text": [
      "      nomes  idades  pesos  alturas        IMC\n",
      "0  pessoa 1      25   70.5     1.75  23.020408\n",
      "1  pessoa 2      30   80.0     1.80  24.691358\n",
      "2  pessoa 3      22   60.0     1.65  22.038567\n"
     ]
    },
    {
     "data": {
      "text/plain": [
       "<Axes: ylabel='Frequency'>"
      ]
     },
     "execution_count": 35,
     "metadata": {},
     "output_type": "execute_result"
    },
    {
     "data": {
      "image/png": "[encoded data removed]",
      "text/plain": [
       "<Figure size 640x480 with 1 Axes>"
      ]
     },
     "metadata": {},
     "output_type": "display_data"
    },
    {
     "data": {
      "image/png": "[encoded data removed]",
      "text/plain": [
       "<Figure size 640x480 with 1 Axes>"
      ]
     },
     "metadata": {},
     "output_type": "display_data"
    }
   ],
   "source": [
    "data = {\n",
    "    \"nomes\": [\"pessoa 1\", \"pessoa 2\", \"pessoa 3\"],\n",
    "    \"idades\": [25, 30, 22],\n",
    "    \"pesos\": [70.5, 80.0, 60.0],\n",
    "    \"alturas\": [1.75, 1.80, 1.65]\n",
    "}\n",
    "\n",
    "df = pd.DataFrame(data)\n",
    "df[\"IMC\"] = df[\"pesos\"] / (df[\"alturas\"] ** 2) # criando nova coluna\n",
    "\n",
    "print(df)\n",
    "\n",
    "df.plot.scatter(x=\"IMC\", y=\"idades\")\n",
    "df.plot.hist(column=\"IMC\", bins=10)"
   ]
  }
 ],
 "metadata": {
  "kernelspec": {
   "display_name": "topicos-ia",
   "language": "python",
   "name": "python3"
  },
  "language_info": {
   "codemirror_mode": {
    "name": "ipython",
    "version": 3
   },
   "file_extension": ".py",
   "mimetype": "text/x-python",
   "name": "python",
   "nbconvert_exporter": "python",
   "pygments_lexer": "ipython3",
   "version": "3.13.7"
  }
 },
 "nbformat": 4,
 "nbformat_minor": 5
}
